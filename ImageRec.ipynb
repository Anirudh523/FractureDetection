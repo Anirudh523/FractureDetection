{
 "cells": [
  {
   "cell_type": "code",
   "id": "initial_id",
   "metadata": {
    "collapsed": true,
    "ExecuteTime": {
     "end_time": "2024-07-11T05:38:50.683341Z",
     "start_time": "2024-07-11T05:38:50.541949Z"
    }
   },
   "source": [
    "import tensorflow as tf\n",
    "from tensorflow.keras import models,layers\n",
    "import matplotlib.pyplot as plt"
   ],
   "outputs": [],
   "execution_count": 6
  },
  {
   "metadata": {
    "ExecuteTime": {
     "end_time": "2024-07-11T05:38:53.228375Z",
     "start_time": "2024-07-11T05:38:53.169589Z"
    }
   },
   "cell_type": "code",
   "source": "IMAGE_SIZE = 224",
   "id": "e5c1562cdf303c18",
   "outputs": [],
   "execution_count": 7
  },
  {
   "metadata": {
    "ExecuteTime": {
     "end_time": "2024-07-11T05:38:59.520981Z",
     "start_time": "2024-07-11T05:38:58.081910Z"
    }
   },
   "cell_type": "code",
   "source": [
    "tf.keras.preprocessing.image.image_dataset_from_directory(\n",
    "    \"Bone_Fracture_Binary_Classification\",\n",
    "    shuffle = True,\n",
    "    image_size = (IMAGE_SIZE, IMAGE_SIZE),\n",
    "    batch_size = 32,\n",
    ")"
   ],
   "id": "af769da46c9fdf61",
   "outputs": [
    {
     "ename": "AttributeError",
     "evalue": "module 'keras._tf_keras.keras.preprocessing.image' has no attribute 'image_dataset_from_directory'",
     "output_type": "error",
     "traceback": [
      "\u001B[1;31m---------------------------------------------------------------------------\u001B[0m",
      "\u001B[1;31mAttributeError\u001B[0m                            Traceback (most recent call last)",
      "Cell \u001B[1;32mIn[8], line 1\u001B[0m\n\u001B[1;32m----> 1\u001B[0m \u001B[43mtf\u001B[49m\u001B[38;5;241;43m.\u001B[39;49m\u001B[43mkeras\u001B[49m\u001B[38;5;241;43m.\u001B[39;49m\u001B[43mpreprocessing\u001B[49m\u001B[38;5;241;43m.\u001B[39;49m\u001B[43mimage\u001B[49m\u001B[38;5;241;43m.\u001B[39;49m\u001B[43mimage_dataset_from_directory\u001B[49m(\n\u001B[0;32m      2\u001B[0m     \u001B[38;5;124m\"\u001B[39m\u001B[38;5;124mBone_Fracture_Binary_Classification\u001B[39m\u001B[38;5;124m\"\u001B[39m,\n\u001B[0;32m      3\u001B[0m     shuffle \u001B[38;5;241m=\u001B[39m \u001B[38;5;28;01mTrue\u001B[39;00m,\n\u001B[0;32m      4\u001B[0m     image_size \u001B[38;5;241m=\u001B[39m (IMAGE_SIZE, IMAGE_SIZE),\n\u001B[0;32m      5\u001B[0m     batch_size \u001B[38;5;241m=\u001B[39m \u001B[38;5;241m32\u001B[39m,\n\u001B[0;32m      6\u001B[0m )\n",
      "\u001B[1;31mAttributeError\u001B[0m: module 'keras._tf_keras.keras.preprocessing.image' has no attribute 'image_dataset_from_directory'"
     ]
    }
   ],
   "execution_count": 8
  },
  {
   "metadata": {},
   "cell_type": "code",
   "outputs": [],
   "execution_count": null,
   "source": "",
   "id": "443d93dc04fc7bbd"
  }
 ],
 "metadata": {
  "kernelspec": {
   "display_name": "Python 3",
   "language": "python",
   "name": "python3"
  },
  "language_info": {
   "codemirror_mode": {
    "name": "ipython",
    "version": 2
   },
   "file_extension": ".py",
   "mimetype": "text/x-python",
   "name": "python",
   "nbconvert_exporter": "python",
   "pygments_lexer": "ipython2",
   "version": "2.7.6"
  }
 },
 "nbformat": 4,
 "nbformat_minor": 5
}
